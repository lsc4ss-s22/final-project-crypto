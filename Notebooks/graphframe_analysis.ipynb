{
 "cells": [
  {
   "cell_type": "code",
   "execution_count": 16,
   "id": "e09b63c7-e76b-4c6e-ac4d-81a6dec7e743",
   "metadata": {
    "execution": {
     "iopub.execute_input": "2022-06-01T22:45:49.977902Z",
     "iopub.status.busy": "2022-06-01T22:45:49.977673Z",
     "iopub.status.idle": "2022-06-01T22:46:18.630348Z",
     "shell.execute_reply": "2022-06-01T22:46:18.629718Z",
     "shell.execute_reply.started": "2022-06-01T22:45:49.977879Z"
    },
    "tags": []
   },
   "outputs": [
    {
     "name": "stdout",
     "output_type": "stream",
     "text": [
      "Starting Spark application\n"
     ]
    },
    {
     "data": {
      "text/html": [
       "<table>\n",
       "<tr><th>ID</th><th>YARN Application ID</th><th>Kind</th><th>State</th><th>Spark UI</th><th>Driver log</th><th>User</th><th>Current session?</th></tr><tr><td>1</td><td>application_1654117362675_0002</td><td>pyspark</td><td>idle</td><td><a target=\"_blank\" href=\"http://ip-172-31-76-39.ec2.internal:20888/proxy/application_1654117362675_0002/\" class=\"emr-proxy-link\" emr-resource=\"j-1ITOWHFL0G6AJ\n",
       "\" application-id=\"application_1654117362675_0002\">Link</a></td><td><a target=\"_blank\" href=\"http://ip-172-31-70-29.ec2.internal:8042/node/containerlogs/container_1654117362675_0002_01_000001/livy\" >Link</a></td><td>None</td><td>✔</td></tr></table>"
      ],
      "text/plain": [
       "<IPython.core.display.HTML object>"
      ]
     },
     "metadata": {},
     "output_type": "display_data"
    },
    {
     "data": {
      "application/vnd.jupyter.widget-view+json": {
       "model_id": "",
       "version_major": 2,
       "version_minor": 0
      },
      "text/plain": [
       "FloatProgress(value=0.0, bar_style='info', description='Progress:', layout=Layout(height='25px', width='50%'),…"
      ]
     },
     "metadata": {},
     "output_type": "display_data"
    },
    {
     "name": "stdout",
     "output_type": "stream",
     "text": [
      "SparkSession available as 'spark'.\n"
     ]
    },
    {
     "data": {
      "text/html": [
       "Current session configs: <tt>{'conf': {'spark.jars': 's3://aws-emr-resources-322477792531-us-east-1/graphframes-0.7.0-spark2.4-s_2.11.jar', 'spark.pyspark.python': 'python3', 'spark.pyspark.virtualenv.enabled': 'true', 'spark.pyspark.virtualenv.type': 'native', 'spark.pyspark.virtualenv.bin.path': '/usr/bin/virtualenv'}, 'proxyUser': 'assumed-role_voclabs_user1931825_shiyanglai_uchicago_edu', 'kind': 'pyspark'}</tt><br>"
      ],
      "text/plain": [
       "<IPython.core.display.HTML object>"
      ]
     },
     "metadata": {},
     "output_type": "display_data"
    },
    {
     "data": {
      "text/html": [
       "<table>\n",
       "<tr><th>ID</th><th>YARN Application ID</th><th>Kind</th><th>State</th><th>Spark UI</th><th>Driver log</th><th>User</th><th>Current session?</th></tr><tr><td>1</td><td>application_1654117362675_0002</td><td>pyspark</td><td>idle</td><td><a target=\"_blank\" href=\"http://ip-172-31-76-39.ec2.internal:20888/proxy/application_1654117362675_0002/\" class=\"emr-proxy-link\" emr-resource=\"j-1ITOWHFL0G6AJ\n",
       "\" application-id=\"application_1654117362675_0002\">Link</a></td><td><a target=\"_blank\" href=\"http://ip-172-31-70-29.ec2.internal:8042/node/containerlogs/container_1654117362675_0002_01_000001/livy\" >Link</a></td><td>None</td><td>✔</td></tr></table>"
      ],
      "text/plain": [
       "<IPython.core.display.HTML object>"
      ]
     },
     "metadata": {},
     "output_type": "display_data"
    }
   ],
   "source": [
    "%%configure -f\n",
    "{\n",
    "    \"conf\": {\n",
    "        \"spark.jars\": \"s3://aws-emr-resources-322477792531-us-east-1/graphframes-0.7.0-spark2.4-s_2.11.jar\",\n",
    "        \"spark.pyspark.python\": \"python3\",\n",
    "        \"spark.pyspark.virtualenv.enabled\": \"true\",\n",
    "        \"spark.pyspark.virtualenv.type\":\"native\",\n",
    "        \"spark.pyspark.virtualenv.bin.path\":\"/usr/bin/virtualenv\"\n",
    "    }\n",
    "}"
   ]
  },
  {
   "cell_type": "code",
   "execution_count": 17,
   "id": "1ecd7954-b35d-4ba5-9c5d-e70d29952d58",
   "metadata": {
    "execution": {
     "iopub.execute_input": "2022-06-01T22:47:06.641925Z",
     "iopub.status.busy": "2022-06-01T22:47:06.641702Z",
     "iopub.status.idle": "2022-06-01T22:47:28.017077Z",
     "shell.execute_reply": "2022-06-01T22:47:28.016414Z",
     "shell.execute_reply.started": "2022-06-01T22:47:06.641901Z"
    },
    "tags": []
   },
   "outputs": [
    {
     "data": {
      "application/vnd.jupyter.widget-view+json": {
       "model_id": "e543324c79a6470fb1908a8199f2985f",
       "version_major": 2,
       "version_minor": 0
      },
      "text/plain": [
       "VBox()"
      ]
     },
     "metadata": {},
     "output_type": "display_data"
    },
    {
     "data": {
      "application/vnd.jupyter.widget-view+json": {
       "model_id": "",
       "version_major": 2,
       "version_minor": 0
      },
      "text/plain": [
       "FloatProgress(value=0.0, bar_style='info', description='Progress:', layout=Layout(height='25px', width='50%'),…"
      ]
     },
     "metadata": {},
     "output_type": "display_data"
    },
    {
     "name": "stdout",
     "output_type": "stream",
     "text": [
      "Collecting graphframes\n",
      "  Using cached https://files.pythonhosted.org/packages/0b/27/c7c7e1ced2fe9a905f865dd91faaec2ac8a8e313f511678c8ec92a41a153/graphframes-0.6-py2.py3-none-any.whl\n",
      "Requirement already satisfied: nose in /usr/local/lib/python3.7/site-packages (from graphframes)\n",
      "Requirement already satisfied: numpy in /usr/local/lib64/python3.7/site-packages (from graphframes)\n",
      "Installing collected packages: graphframes\n",
      "Successfully installed graphframes-0.6\n",
      "\n",
      "Collecting boto3\n",
      "  Using cached https://files.pythonhosted.org/packages/ce/3d/dc2fedf59cac4c7bd60362ccea1c1b299bb7952a9c2d563a7277a0c69e93/boto3-1.24.1-py3-none-any.whl\n",
      "Requirement already satisfied: jmespath<2.0.0,>=0.7.1 in /usr/local/lib/python3.7/site-packages (from boto3)\n",
      "Collecting s3transfer<0.7.0,>=0.6.0 (from boto3)\n",
      "  Using cached https://files.pythonhosted.org/packages/5e/c6/af903b5fab3f9b5b1e883f49a770066314c6dcceb589cf938d48c89556c1/s3transfer-0.6.0-py3-none-any.whl\n",
      "Collecting botocore<1.28.0,>=1.27.1 (from boto3)\n",
      "  Using cached https://files.pythonhosted.org/packages/76/3a/cc4f627b725d50a9f8c202eb15a2256ac5c324588e8975eb42937b9ba78d/botocore-1.27.1-py3-none-any.whl\n",
      "Collecting urllib3<1.27,>=1.25.4 (from botocore<1.28.0,>=1.27.1->boto3)\n",
      "  Using cached https://files.pythonhosted.org/packages/ec/03/062e6444ce4baf1eac17a6a0ebfe36bb1ad05e1df0e20b110de59c278498/urllib3-1.26.9-py2.py3-none-any.whl\n",
      "Collecting python-dateutil<3.0.0,>=2.1 (from botocore<1.28.0,>=1.27.1->boto3)\n",
      "  Using cached https://files.pythonhosted.org/packages/36/7a/87837f39d0296e723bb9b62bbb257d0355c7f6128853c78955f57342a56d/python_dateutil-2.8.2-py2.py3-none-any.whl\n",
      "Requirement already satisfied: six>=1.5 in /usr/local/lib/python3.7/site-packages (from python-dateutil<3.0.0,>=2.1->botocore<1.28.0,>=1.27.1->boto3)\n",
      "Installing collected packages: urllib3, python-dateutil, botocore, s3transfer, boto3\n",
      "Successfully installed boto3-1.24.1 botocore-1.27.1 python-dateutil-2.8.2 s3transfer-0.6.0 urllib3-1.26.9\n",
      "\n",
      "Collecting pandas==1.0.3\n",
      "  Using cached https://files.pythonhosted.org/packages/4a/6a/94b219b8ea0f2d580169e85ed1edc0163743f55aaeca8a44c2e8fc1e344e/pandas-1.0.3-cp37-cp37m-manylinux1_x86_64.whl\n",
      "Requirement already satisfied: pytz>=2017.2 in /usr/local/lib/python3.7/site-packages (from pandas==1.0.3)\n",
      "Requirement already satisfied: numpy>=1.13.3 in /usr/local/lib64/python3.7/site-packages (from pandas==1.0.3)\n",
      "Requirement already satisfied: python-dateutil>=2.6.1 in /mnt/tmp/1654123575335-0/lib/python3.7/site-packages (from pandas==1.0.3)\n",
      "Requirement already satisfied: six>=1.5 in /usr/local/lib/python3.7/site-packages (from python-dateutil>=2.6.1->pandas==1.0.3)\n",
      "Installing collected packages: pandas\n",
      "Successfully installed pandas-1.0.3\n",
      "\n",
      "You are using pip version 9.0.1, however version 22.1.2 is available.\n",
      "You should consider upgrading via the 'pip install --upgrade pip' command.\n",
      "\n",
      "You are using pip version 9.0.1, however version 22.1.2 is available.\n",
      "You should consider upgrading via the 'pip install --upgrade pip' command.\n",
      "\n",
      "You are using pip version 9.0.1, however version 22.1.2 is available.\n",
      "You should consider upgrading via the 'pip install --upgrade pip' command."
     ]
    }
   ],
   "source": [
    "sc.install_pypi_package('graphframes')\n",
    "sc.install_pypi_package('boto3')\n",
    "sc.install_pypi_package('pandas==1.0.3')"
   ]
  },
  {
   "cell_type": "code",
   "execution_count": 18,
   "id": "61f9cebf-abbc-4b84-9fd0-659de4bd3402",
   "metadata": {
    "execution": {
     "iopub.execute_input": "2022-06-01T22:47:28.018258Z",
     "iopub.status.busy": "2022-06-01T22:47:28.018079Z",
     "iopub.status.idle": "2022-06-01T22:47:30.312697Z",
     "shell.execute_reply": "2022-06-01T22:47:30.311925Z",
     "shell.execute_reply.started": "2022-06-01T22:47:28.018236Z"
    },
    "tags": []
   },
   "outputs": [
    {
     "data": {
      "application/vnd.jupyter.widget-view+json": {
       "model_id": "befa8b2ba78b4c398754b015ad5bfd2a",
       "version_major": 2,
       "version_minor": 0
      },
      "text/plain": [
       "VBox()"
      ]
     },
     "metadata": {},
     "output_type": "display_data"
    },
    {
     "data": {
      "application/vnd.jupyter.widget-view+json": {
       "model_id": "",
       "version_major": 2,
       "version_minor": 0
      },
      "text/plain": [
       "FloatProgress(value=0.0, bar_style='info', description='Progress:', layout=Layout(height='25px', width='50%'),…"
      ]
     },
     "metadata": {},
     "output_type": "display_data"
    }
   ],
   "source": [
    "import boto3\n",
    "import pandas as pd\n",
    "s3 = boto3.client('s3')\n",
    "obj = s3.get_object(Bucket='crypto-conven-training', Key='var_network/network_short_freq.csv')\n",
    "short_freq = pd.read_csv(obj['Body'], index_col=0)\n",
    "obj = s3.get_object(Bucket='crypto-conven-training', Key='var_network/network_medium_freq.csv')\n",
    "medium_freq = pd.read_csv(obj['Body'], index_col=0)\n",
    "obj = s3.get_object(Bucket='crypto-conven-training', Key='var_network/network_long_freq.csv')\n",
    "long_freq = pd.read_csv(obj['Body'], index_col=0)"
   ]
  },
  {
   "cell_type": "code",
   "execution_count": 19,
   "id": "b35559f6-40f3-4b62-8557-5381b6f79066",
   "metadata": {
    "execution": {
     "iopub.execute_input": "2022-06-01T22:47:30.319195Z",
     "iopub.status.busy": "2022-06-01T22:47:30.317349Z",
     "iopub.status.idle": "2022-06-01T22:49:30.059538Z",
     "shell.execute_reply": "2022-06-01T22:49:30.058771Z",
     "shell.execute_reply.started": "2022-06-01T22:47:30.319152Z"
    },
    "tags": []
   },
   "outputs": [
    {
     "data": {
      "application/vnd.jupyter.widget-view+json": {
       "model_id": "fe08c9065abd40d8aa85d9f5199163fb",
       "version_major": 2,
       "version_minor": 0
      },
      "text/plain": [
       "VBox()"
      ]
     },
     "metadata": {},
     "output_type": "display_data"
    },
    {
     "data": {
      "application/vnd.jupyter.widget-view+json": {
       "model_id": "",
       "version_major": 2,
       "version_minor": 0
      },
      "text/plain": [
       "FloatProgress(value=0.0, bar_style='info', description='Progress:', layout=Layout(height='25px', width='50%'),…"
      ]
     },
     "metadata": {},
     "output_type": "display_data"
    }
   ],
   "source": [
    "# use short-frequency network as an example to conduct following analysis\n",
    "nodes = pd.DataFrame({'id': short_freq.index, 'type': ['crypto' if i < 103 else 'conven' for i in range(len(short_freq.index))]})\n",
    "edges = pd.DataFrame(columns=['src', 'dst', 'spillover', 'type'])\n",
    "for index, row in short_freq.iterrows():\n",
    "    for curr in row.index:\n",
    "        if nodes[nodes.id == curr].type.values[0] == nodes[nodes.id == index].type.values[0]:\n",
    "            rel = 'within'\n",
    "        else:\n",
    "            rel = 'cross'\n",
    "        edges = edges.append({'src': curr, 'dst': index, 'spillover': short_freq.loc[index, curr], 'type': rel},\n",
    "                              ignore_index=True)"
   ]
  },
  {
   "cell_type": "code",
   "execution_count": 20,
   "id": "2b86d3a1-6800-4d06-bda9-8787232c38b6",
   "metadata": {
    "execution": {
     "iopub.execute_input": "2022-06-01T22:49:30.061279Z",
     "iopub.status.busy": "2022-06-01T22:49:30.060974Z",
     "iopub.status.idle": "2022-06-01T22:49:32.348305Z",
     "shell.execute_reply": "2022-06-01T22:49:32.347667Z",
     "shell.execute_reply.started": "2022-06-01T22:49:30.061247Z"
    },
    "tags": []
   },
   "outputs": [
    {
     "data": {
      "application/vnd.jupyter.widget-view+json": {
       "model_id": "9371d81783b8414381f5d5e54a8f82ce",
       "version_major": 2,
       "version_minor": 0
      },
      "text/plain": [
       "VBox()"
      ]
     },
     "metadata": {},
     "output_type": "display_data"
    },
    {
     "data": {
      "application/vnd.jupyter.widget-view+json": {
       "model_id": "",
       "version_major": 2,
       "version_minor": 0
      },
      "text/plain": [
       "FloatProgress(value=0.0, bar_style='info', description='Progress:', layout=Layout(height='25px', width='50%'),…"
      ]
     },
     "metadata": {},
     "output_type": "display_data"
    }
   ],
   "source": [
    "nodes = spark.createDataFrame(nodes)\n",
    "edges = spark.createDataFrame(edges)"
   ]
  },
  {
   "cell_type": "code",
   "execution_count": 21,
   "id": "edefea61-f258-4a94-ab26-7de9552bd053",
   "metadata": {
    "execution": {
     "iopub.execute_input": "2022-06-01T22:49:32.349609Z",
     "iopub.status.busy": "2022-06-01T22:49:32.349420Z",
     "iopub.status.idle": "2022-06-01T22:49:32.617267Z",
     "shell.execute_reply": "2022-06-01T22:49:32.616516Z",
     "shell.execute_reply.started": "2022-06-01T22:49:32.349585Z"
    },
    "tags": []
   },
   "outputs": [
    {
     "data": {
      "application/vnd.jupyter.widget-view+json": {
       "model_id": "cec876fed7dd46109975c6ff3dd80b99",
       "version_major": 2,
       "version_minor": 0
      },
      "text/plain": [
       "VBox()"
      ]
     },
     "metadata": {},
     "output_type": "display_data"
    },
    {
     "data": {
      "application/vnd.jupyter.widget-view+json": {
       "model_id": "",
       "version_major": 2,
       "version_minor": 0
      },
      "text/plain": [
       "FloatProgress(value=0.0, bar_style='info', description='Progress:', layout=Layout(height='25px', width='50%'),…"
      ]
     },
     "metadata": {},
     "output_type": "display_data"
    },
    {
     "name": "stdout",
     "output_type": "stream",
     "text": [
      "GraphFrame(v:[id: string, type: string], e:[src: string, dst: string ... 2 more fields])"
     ]
    }
   ],
   "source": [
    "from graphframes import *\n",
    "g = GraphFrame(nodes, edges)\n",
    "print(g)"
   ]
  },
  {
   "cell_type": "code",
   "execution_count": 22,
   "id": "cccd15f4-6fda-457c-b289-2e556ea0707e",
   "metadata": {
    "execution": {
     "iopub.execute_input": "2022-06-01T22:49:32.618475Z",
     "iopub.status.busy": "2022-06-01T22:49:32.618303Z",
     "iopub.status.idle": "2022-06-01T22:49:37.928092Z",
     "shell.execute_reply": "2022-06-01T22:49:37.927368Z",
     "shell.execute_reply.started": "2022-06-01T22:49:32.618453Z"
    },
    "tags": []
   },
   "outputs": [
    {
     "data": {
      "application/vnd.jupyter.widget-view+json": {
       "model_id": "2bceb982027444e6a8edacd722a27f40",
       "version_major": 2,
       "version_minor": 0
      },
      "text/plain": [
       "VBox()"
      ]
     },
     "metadata": {},
     "output_type": "display_data"
    },
    {
     "data": {
      "application/vnd.jupyter.widget-view+json": {
       "model_id": "",
       "version_major": 2,
       "version_minor": 0
      },
      "text/plain": [
       "FloatProgress(value=0.0, bar_style='info', description='Progress:', layout=Layout(height='25px', width='50%'),…"
      ]
     },
     "metadata": {},
     "output_type": "display_data"
    },
    {
     "name": "stdout",
     "output_type": "stream",
     "text": [
      "Collecting networkx\n",
      "  Using cached https://files.pythonhosted.org/packages/e9/93/aa6613aa70d6eb4868e667068b5a11feca9645498fd31b954b6c4bb82fa5/networkx-2.6.3-py3-none-any.whl\n",
      "Installing collected packages: networkx\n",
      "Successfully installed networkx-2.6.3\n",
      "\n",
      "Collecting matplotlib==3.2.1\n",
      "  Using cached https://files.pythonhosted.org/packages/b2/c2/71fcf957710f3ba1f09088b35776a799ba7dd95f7c2b195ec800933b276b/matplotlib-3.2.1-cp37-cp37m-manylinux1_x86_64.whl\n",
      "Requirement already satisfied: python-dateutil>=2.1 in /mnt/tmp/1654123575335-0/lib/python3.7/site-packages (from matplotlib==3.2.1)\n",
      "Collecting pyparsing!=2.0.4,!=2.1.2,!=2.1.6,>=2.0.1 (from matplotlib==3.2.1)\n",
      "  Using cached https://files.pythonhosted.org/packages/6c/10/a7d0fa5baea8fe7b50f448ab742f26f52b80bfca85ac2be9d35cdd9a3246/pyparsing-3.0.9-py3-none-any.whl\n",
      "Collecting cycler>=0.10 (from matplotlib==3.2.1)\n",
      "  Using cached https://files.pythonhosted.org/packages/5c/f9/695d6bedebd747e5eb0fe8fad57b72fdf25411273a39791cde838d5a8f51/cycler-0.11.0-py3-none-any.whl\n",
      "Requirement already satisfied: numpy>=1.11 in /usr/local/lib64/python3.7/site-packages (from matplotlib==3.2.1)\n",
      "Collecting kiwisolver>=1.0.1 (from matplotlib==3.2.1)\n",
      "  Using cached https://files.pythonhosted.org/packages/51/50/9a9a94afa26c50fc5d9127272737806990aa698c7a1c220b8e5075e70304/kiwisolver-1.4.2-cp37-cp37m-manylinux_2_5_x86_64.manylinux1_x86_64.whl\n",
      "Requirement already satisfied: six>=1.5 in /usr/local/lib/python3.7/site-packages (from python-dateutil>=2.1->matplotlib==3.2.1)\n",
      "Collecting typing-extensions; python_version < \"3.8\" (from kiwisolver>=1.0.1->matplotlib==3.2.1)\n",
      "  Using cached https://files.pythonhosted.org/packages/75/e1/932e06004039dd670c9d5e1df0cd606bf46e29a28e65d5bb28e894ea29c9/typing_extensions-4.2.0-py3-none-any.whl\n",
      "Installing collected packages: pyparsing, cycler, typing-extensions, kiwisolver, matplotlib\n",
      "Successfully installed cycler-0.11.0 kiwisolver-1.4.2 matplotlib-3.2.1 pyparsing-3.0.9 typing-extensions-4.2.0\n",
      "\n",
      "You are using pip version 9.0.1, however version 22.1.2 is available.\n",
      "You should consider upgrading via the 'pip install --upgrade pip' command.\n",
      "\n",
      "You are using pip version 9.0.1, however version 22.1.2 is available.\n",
      "You should consider upgrading via the 'pip install --upgrade pip' command."
     ]
    }
   ],
   "source": [
    "sc.install_pypi_package('networkx')\n",
    "sc.install_pypi_package(\"matplotlib==3.2.1\")"
   ]
  },
  {
   "cell_type": "code",
   "execution_count": 23,
   "id": "7203f8dd-4a06-4fe1-865f-0bab4602ba86",
   "metadata": {
    "execution": {
     "iopub.execute_input": "2022-06-01T22:49:42.368595Z",
     "iopub.status.busy": "2022-06-01T22:49:42.368307Z",
     "iopub.status.idle": "2022-06-01T22:49:42.440440Z",
     "shell.execute_reply": "2022-06-01T22:49:42.439731Z",
     "shell.execute_reply.started": "2022-06-01T22:49:42.368558Z"
    },
    "tags": []
   },
   "outputs": [
    {
     "data": {
      "application/vnd.jupyter.widget-view+json": {
       "model_id": "d9366b766cc14c3190284bcf08a1f157",
       "version_major": 2,
       "version_minor": 0
      },
      "text/plain": [
       "VBox()"
      ]
     },
     "metadata": {},
     "output_type": "display_data"
    },
    {
     "data": {
      "application/vnd.jupyter.widget-view+json": {
       "model_id": "",
       "version_major": 2,
       "version_minor": 0
      },
      "text/plain": [
       "FloatProgress(value=0.0, bar_style='info', description='Progress:', layout=Layout(height='25px', width='50%'),…"
      ]
     },
     "metadata": {},
     "output_type": "display_data"
    }
   ],
   "source": [
    "# import networkx as nx\n",
    "# import matplotlib.pyplot as plt\n",
    "\n",
    "# # G=nx.DiGraph()\n",
    "\n",
    "# # for row in g.edges.select('src', 'dst', 'spillover').collect():\n",
    "# #     if row['src'] != row['dst']:\n",
    "# #         G.add_edge(row['src'], row['dst'], weight=row['spillover'])\n",
    "\n",
    "# plt.figure(figsize=(10, 10))\n",
    "# pos = nx.spring_layout(G)\n",
    "# d = dict(G.degree(weight='weight'))\n",
    "# nx.draw_networkx_labels(G, pos=pos, font_weight='bold')\n",
    "# nx.draw_networkx_nodes(G, pos=pos, node_color='skyblue')\n",
    "# nx.draw_networkx_edges(G, pos=pos, alpha=0.5, width=5)\n",
    "# plt.close()\n",
    "\n",
    "# %matplot plt"
   ]
  },
  {
   "cell_type": "code",
   "execution_count": 24,
   "id": "0e4912b3-9036-4b9b-b0cd-17927bd168c4",
   "metadata": {
    "execution": {
     "iopub.execute_input": "2022-06-01T22:49:43.900184Z",
     "iopub.status.busy": "2022-06-01T22:49:43.899951Z",
     "iopub.status.idle": "2022-06-01T22:50:07.262551Z",
     "shell.execute_reply": "2022-06-01T22:50:07.261943Z",
     "shell.execute_reply.started": "2022-06-01T22:49:43.900159Z"
    },
    "tags": []
   },
   "outputs": [
    {
     "data": {
      "application/vnd.jupyter.widget-view+json": {
       "model_id": "22492968d4d24f4595faeae09e2f4e3c",
       "version_major": 2,
       "version_minor": 0
      },
      "text/plain": [
       "VBox()"
      ]
     },
     "metadata": {},
     "output_type": "display_data"
    },
    {
     "data": {
      "application/vnd.jupyter.widget-view+json": {
       "model_id": "",
       "version_major": 2,
       "version_minor": 0
      },
      "text/plain": [
       "FloatProgress(value=0.0, bar_style='info', description='Progress:', layout=Layout(height='25px', width='50%'),…"
      ]
     },
     "metadata": {},
     "output_type": "display_data"
    },
    {
     "name": "stdout",
     "output_type": "stream",
     "text": [
      "+--------+--------+\n",
      "|      id|inDegree|\n",
      "+--------+--------+\n",
      "| USDPINK|     155|\n",
      "| USDOMNI|     155|\n",
      "|  USDUBQ|     155|\n",
      "| USDDASH|     155|\n",
      "|  USDDZD|     155|\n",
      "|  USDPYG|     155|\n",
      "|  USDPOT|     155|\n",
      "| USDBELA|     155|\n",
      "|  USDMEC|     155|\n",
      "|  USDNYC|     155|\n",
      "|  USDNOK|     155|\n",
      "|  USDXPF|     155|\n",
      "|  USDSYS|     155|\n",
      "|  USDEMC|     155|\n",
      "|  USDEUR|     155|\n",
      "|  USDETH|     155|\n",
      "| USDBITB|     155|\n",
      "|  USDMDL|     155|\n",
      "|USDCLOAK|     155|\n",
      "|  USDXST|     155|\n",
      "+--------+--------+\n",
      "only showing top 20 rows"
     ]
    }
   ],
   "source": [
    "# Query: Get in-degree of each vertex.\n",
    "g.inDegrees.show()"
   ]
  },
  {
   "cell_type": "code",
   "execution_count": 25,
   "id": "e93ec156-fac1-4070-ac43-5660f966cc9c",
   "metadata": {
    "execution": {
     "iopub.execute_input": "2022-06-01T22:50:07.263725Z",
     "iopub.status.busy": "2022-06-01T22:50:07.263549Z",
     "iopub.status.idle": "2022-06-01T22:50:08.096416Z",
     "shell.execute_reply": "2022-06-01T22:50:08.095539Z",
     "shell.execute_reply.started": "2022-06-01T22:50:07.263702Z"
    },
    "tags": []
   },
   "outputs": [
    {
     "data": {
      "application/vnd.jupyter.widget-view+json": {
       "model_id": "e6ff528a50c24b4289ab598470afbd8f",
       "version_major": 2,
       "version_minor": 0
      },
      "text/plain": [
       "VBox()"
      ]
     },
     "metadata": {},
     "output_type": "display_data"
    },
    {
     "data": {
      "application/vnd.jupyter.widget-view+json": {
       "model_id": "",
       "version_major": 2,
       "version_minor": 0
      },
      "text/plain": [
       "FloatProgress(value=0.0, bar_style='info', description='Progress:', layout=Layout(height='25px', width='50%'),…"
      ]
     },
     "metadata": {},
     "output_type": "display_data"
    },
    {
     "name": "stdout",
     "output_type": "stream",
     "text": [
      "2977"
     ]
    }
   ],
   "source": [
    "# Query: Count the number of \"follow\" connections in the graph.\n",
    "g.edges.filter(\"type = 'within' and spillover > 0.2\").count()"
   ]
  },
  {
   "cell_type": "code",
   "execution_count": 26,
   "id": "55d7f1d1-e98f-4563-9cbc-82eb6dccc546",
   "metadata": {
    "execution": {
     "iopub.execute_input": "2022-06-01T22:50:08.098328Z",
     "iopub.status.busy": "2022-06-01T22:50:08.098030Z",
     "iopub.status.idle": "2022-06-01T22:50:08.896379Z",
     "shell.execute_reply": "2022-06-01T22:50:08.895664Z",
     "shell.execute_reply.started": "2022-06-01T22:50:08.098290Z"
    },
    "tags": []
   },
   "outputs": [
    {
     "data": {
      "application/vnd.jupyter.widget-view+json": {
       "model_id": "39de73e0b1f74c47baed40ce634ad30d",
       "version_major": 2,
       "version_minor": 0
      },
      "text/plain": [
       "VBox()"
      ]
     },
     "metadata": {},
     "output_type": "display_data"
    },
    {
     "data": {
      "application/vnd.jupyter.widget-view+json": {
       "model_id": "",
       "version_major": 2,
       "version_minor": 0
      },
      "text/plain": [
       "FloatProgress(value=0.0, bar_style='info', description='Progress:', layout=Layout(height='25px', width='50%'),…"
      ]
     },
     "metadata": {},
     "output_type": "display_data"
    },
    {
     "name": "stdout",
     "output_type": "stream",
     "text": [
      "883"
     ]
    }
   ],
   "source": [
    "# Query: Count the number of \"follow\" connections in the graph.\n",
    "g.edges.filter(\"type = 'cross' and spillover > 0.2\").count()"
   ]
  },
  {
   "cell_type": "code",
   "execution_count": 27,
   "id": "b1f1e70c-5195-4335-aad7-f75a17934581",
   "metadata": {
    "execution": {
     "iopub.execute_input": "2022-06-01T22:50:08.897951Z",
     "iopub.status.busy": "2022-06-01T22:50:08.897692Z",
     "iopub.status.idle": "2022-06-01T22:50:09.166047Z",
     "shell.execute_reply": "2022-06-01T22:50:09.165398Z",
     "shell.execute_reply.started": "2022-06-01T22:50:08.897915Z"
    },
    "tags": []
   },
   "outputs": [
    {
     "data": {
      "application/vnd.jupyter.widget-view+json": {
       "model_id": "be5ae064267d4e58a002b729b3e6d4ab",
       "version_major": 2,
       "version_minor": 0
      },
      "text/plain": [
       "VBox()"
      ]
     },
     "metadata": {},
     "output_type": "display_data"
    },
    {
     "data": {
      "application/vnd.jupyter.widget-view+json": {
       "model_id": "",
       "version_major": 2,
       "version_minor": 0
      },
      "text/plain": [
       "FloatProgress(value=0.0, bar_style='info', description='Progress:', layout=Layout(height='25px', width='50%'),…"
      ]
     },
     "metadata": {},
     "output_type": "display_data"
    }
   ],
   "source": [
    "# Filter\n",
    "g_cryp_within = g.filterEdges(\"type = 'within' and spillover > 0.2\").filterVertices(\"type = 'crypto'\").dropIsolatedVertices()\n",
    "g_conv_within = g.filterEdges(\"type = 'within' and spillover > 0.2\").filterVertices(\"type = 'conven'\").dropIsolatedVertices()\n",
    "g_cross = g.filterEdges(\"type = 'cross' and spillover > 0.2\").dropIsolatedVertices()"
   ]
  },
  {
   "cell_type": "code",
   "execution_count": 28,
   "id": "ed000c20-dca0-4fdb-86a0-04b76bd6958e",
   "metadata": {
    "execution": {
     "iopub.execute_input": "2022-06-01T22:50:16.093652Z",
     "iopub.status.busy": "2022-06-01T22:50:16.093429Z",
     "iopub.status.idle": "2022-06-01T22:52:22.639643Z",
     "shell.execute_reply": "2022-06-01T22:52:22.638743Z",
     "shell.execute_reply.started": "2022-06-01T22:50:16.093627Z"
    },
    "tags": []
   },
   "outputs": [
    {
     "data": {
      "application/vnd.jupyter.widget-view+json": {
       "model_id": "998ad011d02e494ab3d5ca8059f5283c",
       "version_major": 2,
       "version_minor": 0
      },
      "text/plain": [
       "VBox()"
      ]
     },
     "metadata": {},
     "output_type": "display_data"
    },
    {
     "data": {
      "application/vnd.jupyter.widget-view+json": {
       "model_id": "",
       "version_major": 2,
       "version_minor": 0
      },
      "text/plain": [
       "FloatProgress(value=0.0, bar_style='info', description='Progress:', layout=Layout(height='25px', width='50%'),…"
      ]
     },
     "metadata": {},
     "output_type": "display_data"
    },
    {
     "name": "stdout",
     "output_type": "stream",
     "text": [
      "+--------+-------------------+\n",
      "|      id|           pagerank|\n",
      "+--------+-------------------+\n",
      "| USDPINK|  1.078294976893571|\n",
      "| USDOMNI| 0.8282832329425606|\n",
      "|  USDUBQ| 1.5658873674698244|\n",
      "| USDDASH| 0.8878214996299993|\n",
      "|  USDPOT| 0.7251586293239374|\n",
      "| USDBELA| 1.2786935329123064|\n",
      "|  USDMEC| 0.5085845188878885|\n",
      "|  USDNYC| 0.6044383593422594|\n",
      "|  USDSYS| 1.1603157760657121|\n",
      "|  USDEMC|  1.282685092679483|\n",
      "|USDCLOAK| 0.9403953723306263|\n",
      "|  USDXST|  0.627243422365171|\n",
      "| USDTIPS| 0.7865072224070426|\n",
      "|  USDNMC| 0.5435060596448064|\n",
      "|  USDUNO| 1.5005494172403766|\n",
      "|  USDTRC| 1.0643004312565711|\n",
      "|  USDBLK|  1.177458950610755|\n",
      "|  USDFTC|0.28610835924235484|\n",
      "|  USDPIN| 0.4555727955267072|\n",
      "|  USDBTS| 0.8883568877408112|\n",
      "+--------+-------------------+\n",
      "only showing top 20 rows"
     ]
    }
   ],
   "source": [
    "# pagerank calculation\n",
    "results = g_cryp_within.pageRank(resetProbability=0.15, tol=0.01)\n",
    "results.vertices.select(\"id\", \"pagerank\").show()"
   ]
  },
  {
   "cell_type": "code",
   "execution_count": 29,
   "id": "99400d9a-bdea-4746-a4bb-5ed664595d0a",
   "metadata": {
    "execution": {
     "iopub.execute_input": "2022-06-01T22:52:22.641489Z",
     "iopub.status.busy": "2022-06-01T22:52:22.641139Z",
     "iopub.status.idle": "2022-06-01T22:55:04.827987Z",
     "shell.execute_reply": "2022-06-01T22:55:04.827078Z",
     "shell.execute_reply.started": "2022-06-01T22:52:22.641461Z"
    },
    "tags": []
   },
   "outputs": [
    {
     "data": {
      "application/vnd.jupyter.widget-view+json": {
       "model_id": "878ced7e10dc4b2b953d55ffede99803",
       "version_major": 2,
       "version_minor": 0
      },
      "text/plain": [
       "VBox()"
      ]
     },
     "metadata": {},
     "output_type": "display_data"
    },
    {
     "data": {
      "application/vnd.jupyter.widget-view+json": {
       "model_id": "",
       "version_major": 2,
       "version_minor": 0
      },
      "text/plain": [
       "FloatProgress(value=0.0, bar_style='info', description='Progress:', layout=Layout(height='25px', width='50%'),…"
      ]
     },
     "metadata": {},
     "output_type": "display_data"
    },
    {
     "name": "stdout",
     "output_type": "stream",
     "text": [
      "+------+-------------------+\n",
      "|    id|           pagerank|\n",
      "+------+-------------------+\n",
      "|USDDZD|  1.012484743554313|\n",
      "|USDPYG| 0.7594988259771634|\n",
      "|USDNOK| 0.5720141510489021|\n",
      "|USDXPF| 0.6554253939680479|\n",
      "|USDEUR| 1.1216472323602182|\n",
      "|USDMDL| 0.7894862784121143|\n",
      "|USDCOP| 0.5538670370293423|\n",
      "|USDURY|0.43880992573410316|\n",
      "|USDMGA| 1.1752169679089284|\n",
      "|USDCLP| 1.1635106349820832|\n",
      "|USDRON| 0.6512691947199639|\n",
      "|USDNAD| 1.6008673770090465|\n",
      "|USDNZD| 1.7796556596529998|\n",
      "|USDMXN| 0.5670056123428641|\n",
      "|USDBRL| 0.3540187858969926|\n",
      "|USDRUB| 1.1916012427997498|\n",
      "|USDSTD| 1.1772318355872733|\n",
      "|USDMKD| 0.8014136816491488|\n",
      "|USDCRC| 0.7740156789692019|\n",
      "|USDFJD|   1.03182083232021|\n",
      "+------+-------------------+\n",
      "only showing top 20 rows"
     ]
    }
   ],
   "source": [
    "# pagerank calculation\n",
    "results = g_conv_within.pageRank(resetProbability=0.15, tol=0.01)\n",
    "results.vertices.select(\"id\", \"pagerank\").show()"
   ]
  },
  {
   "cell_type": "code",
   "execution_count": 30,
   "id": "06cfeaef-504c-47d1-b90d-b644ed6d1109",
   "metadata": {
    "execution": {
     "iopub.execute_input": "2022-06-01T22:55:04.830051Z",
     "iopub.status.busy": "2022-06-01T22:55:04.829605Z",
     "iopub.status.idle": "2022-06-01T22:55:10.355086Z",
     "shell.execute_reply": "2022-06-01T22:55:10.354225Z",
     "shell.execute_reply.started": "2022-06-01T22:55:04.830012Z"
    },
    "tags": []
   },
   "outputs": [
    {
     "data": {
      "application/vnd.jupyter.widget-view+json": {
       "model_id": "657af9ef9b7142e9b4981159dd3436c5",
       "version_major": 2,
       "version_minor": 0
      },
      "text/plain": [
       "VBox()"
      ]
     },
     "metadata": {},
     "output_type": "display_data"
    },
    {
     "data": {
      "application/vnd.jupyter.widget-view+json": {
       "model_id": "",
       "version_major": 2,
       "version_minor": 0
      },
      "text/plain": [
       "FloatProgress(value=0.0, bar_style='info', description='Progress:', layout=Layout(height='25px', width='50%'),…"
      ]
     },
     "metadata": {},
     "output_type": "display_data"
    },
    {
     "name": "stdout",
     "output_type": "stream",
     "text": [
      "+------+------+--------------------+\n",
      "|   src|   dst|              weight|\n",
      "+------+------+--------------------+\n",
      "|USDDZD|USDGBP| 0.05555555555555555|\n",
      "|USDDZD|USDEUR| 0.05555555555555555|\n",
      "|USDDZD|USDNZD| 0.05555555555555555|\n",
      "|USDDZD|USDZAR| 0.05555555555555555|\n",
      "|USDDZD|USDSZL| 0.05555555555555555|\n",
      "|USDDZD|USDSTD| 0.05555555555555555|\n",
      "|USDDZD|USDMAD| 0.05555555555555555|\n",
      "|USDDZD|USDBWP| 0.05555555555555555|\n",
      "|USDDZD|USDKMF| 0.05555555555555555|\n",
      "|USDDZD|USDDZD| 0.05555555555555555|\n",
      "|USDDZD|USDUGX| 0.05555555555555555|\n",
      "|USDDZD|USDNOK| 0.05555555555555555|\n",
      "|USDDZD|USDUAH| 0.05555555555555555|\n",
      "|USDDZD|USDMDL| 0.05555555555555555|\n",
      "|USDDZD|USDISK| 0.05555555555555555|\n",
      "|USDDZD|USDCAD| 0.05555555555555555|\n",
      "|USDDZD|USDPYG| 0.05555555555555555|\n",
      "|USDDZD|USDCOP| 0.05555555555555555|\n",
      "|USDPYG|USDGBP|0.047619047619047616|\n",
      "|USDPYG|USDMGA|0.047619047619047616|\n",
      "+------+------+--------------------+\n",
      "only showing top 20 rows"
     ]
    }
   ],
   "source": [
    "results.edges.select(\"src\", \"dst\", \"weight\").show()"
   ]
  },
  {
   "cell_type": "code",
   "execution_count": null,
   "id": "980a68de-2ab4-454b-a58d-7eedd81c6717",
   "metadata": {},
   "outputs": [],
   "source": []
  }
 ],
 "metadata": {
  "kernelspec": {
   "display_name": "PySpark",
   "language": "python",
   "name": "pysparkkernel"
  },
  "language_info": {
   "codemirror_mode": {
    "name": "python",
    "version": 3
   },
   "file_extension": ".py",
   "mimetype": "text/x-python",
   "name": "pyspark",
   "pygments_lexer": "python3"
  }
 },
 "nbformat": 4,
 "nbformat_minor": 5
}
