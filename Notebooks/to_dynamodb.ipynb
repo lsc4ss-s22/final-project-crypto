{
 "cells": [
  {
   "cell_type": "code",
   "execution_count": 13,
   "id": "c5abd34f",
   "metadata": {},
   "outputs": [],
   "source": [
    "import os\n",
    "import boto3\n",
    "import json\n",
    "from decimal import Decimal\n",
    "import pandas as pd\n",
    "import warnings\n",
    "from tqdm import tqdm\n",
    "warnings.filterwarnings('ignore')\n",
    "s3 = boto3.resource('s3')\n",
    "myBucket = s3.Bucket('crypto-conven-training')"
   ]
  },
  {
   "cell_type": "code",
   "execution_count": 2,
   "id": "38b3710f",
   "metadata": {},
   "outputs": [],
   "source": [
    "# download all results csv files\n",
    "for s3_object in myBucket.objects.all():\n",
    "    path, filename = os.path.split(s3_object.key)\n",
    "    if path == 'results':\n",
    "        myBucket.download_file(s3_object.key, filename)"
   ]
  },
  {
   "cell_type": "code",
   "execution_count": 18,
   "id": "4602beb5",
   "metadata": {},
   "outputs": [
    {
     "name": "stdout",
     "output_type": "stream",
     "text": [
      "0\n",
      "2022-05-30 16:43:45.077000+00:00\n"
     ]
    }
   ],
   "source": [
    "# send to a dynamoDB\n",
    "dynamodb = boto3.resource('dynamodb')\n",
    "table = dynamodb.create_table(\n",
    "    TableName='return_prediction',\n",
    "    KeySchema=[\n",
    "        {\n",
    "            'AttributeName': 'Task',\n",
    "            'KeyType': 'HASH'\n",
    "        }\n",
    "    ],\n",
    "    AttributeDefinitions=[\n",
    "        {\n",
    "            'AttributeName': 'Task',\n",
    "            'AttributeType': 'S'\n",
    "        }\n",
    "    ],\n",
    "    ProvisionedThroughput={\n",
    "        'ReadCapacityUnits': 1,\n",
    "        'WriteCapacityUnits': 1\n",
    "    }    \n",
    ")\n",
    "\n",
    "# Wait until AWS confirms that table exists before moving on\n",
    "table.meta.client.get_waiter('table_exists').wait(TableName='return_prediction')\n",
    "\n",
    "# get data about table (should currently be no items in table)\n",
    "print(table.item_count)\n",
    "print(table.creation_date_time)"
   ]
  },
  {
   "cell_type": "code",
   "execution_count": 19,
   "id": "f85973fe",
   "metadata": {},
   "outputs": [
    {
     "name": "stderr",
     "output_type": "stream",
     "text": [
      "100%|██████████| 36/36 [57:28<00:00, 95.79s/it] \n"
     ]
    }
   ],
   "source": [
    "# send data to dynamoDB\n",
    "files = os.listdir('results/')\n",
    "for file in tqdm(files):\n",
    "    if file == '.ipynb_checkpoints':\n",
    "        continue\n",
    "    result = pd.read_csv('results/' + file)\n",
    "    currency, model = file.split('_')[1], file.split('_')[2].replace('.csv', '')\n",
    "    for index, row in result.iterrows():\n",
    "        type_ = row['type']\n",
    "        time = row['window_index']\n",
    "        mae = row['MAE']\n",
    "        item = json.loads(json.dumps({'Task': currency+'_'+model+'_'+str(time),\n",
    "                                      'Model': model, 'Currency': currency,\n",
    "                                      'Type': type_, 'Time Window': time, 'MAE': mae}),\n",
    "                          parse_float=Decimal)\n",
    "        table.put_item(\n",
    "            Item=item)"
   ]
  },
  {
   "cell_type": "code",
   "execution_count": null,
   "id": "09d41677",
   "metadata": {},
   "outputs": [],
   "source": []
  }
 ],
 "metadata": {
  "kernelspec": {
   "display_name": "conda_python3",
   "language": "python",
   "name": "conda_python3"
  },
  "language_info": {
   "codemirror_mode": {
    "name": "ipython",
    "version": 3
   },
   "file_extension": ".py",
   "mimetype": "text/x-python",
   "name": "python",
   "nbconvert_exporter": "python",
   "pygments_lexer": "ipython3",
   "version": "3.6.13"
  }
 },
 "nbformat": 4,
 "nbformat_minor": 5
}
