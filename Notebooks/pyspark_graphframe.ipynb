{
 "cells": [
  {
   "cell_type": "code",
   "execution_count": 1,
   "id": "e09b63c7-e76b-4c6e-ac4d-81a6dec7e743",
   "metadata": {
    "execution": {
     "iopub.execute_input": "2022-05-31T01:58:19.559301Z",
     "iopub.status.busy": "2022-05-31T01:58:19.559027Z",
     "iopub.status.idle": "2022-05-31T01:58:20.014980Z",
     "shell.execute_reply": "2022-05-31T01:58:20.014281Z",
     "shell.execute_reply.started": "2022-05-31T01:58:19.559273Z"
    }
   },
   "outputs": [
    {
     "data": {
      "text/html": [
       "Current session configs: <tt>{'conf': {'spark.jars': 's3://aws-emr-resources-322477792531-us-east-1/graphframes-0.7.0-spark2.4-s_2.11.jar', 'spark.pyspark.python': 'python3', 'spark.pyspark.virtualenv.enabled': 'true', 'spark.pyspark.virtualenv.type': 'native', 'spark.pyspark.virtualenv.bin.path': '/usr/bin/virtualenv'}, 'proxyUser': 'assumed-role_voclabs_user1931825_shiyanglai_uchicago_edu', 'kind': 'pyspark'}</tt><br>"
      ],
      "text/plain": [
       "<IPython.core.display.HTML object>"
      ]
     },
     "metadata": {},
     "output_type": "display_data"
    },
    {
     "data": {
      "text/html": [
       "No active sessions."
      ],
      "text/plain": [
       "<IPython.core.display.HTML object>"
      ]
     },
     "metadata": {},
     "output_type": "display_data"
    }
   ],
   "source": [
    "%%configure -f\n",
    "{\n",
    "    \"conf\": {\n",
    "        \"spark.jars\": \"s3://aws-emr-resources-322477792531-us-east-1/graphframes-0.7.0-spark2.4-s_2.11.jar\",\n",
    "        \"spark.pyspark.python\": \"python3\",\n",
    "        \"spark.pyspark.virtualenv.enabled\": \"true\",\n",
    "        \"spark.pyspark.virtualenv.type\":\"native\",\n",
    "        \"spark.pyspark.virtualenv.bin.path\":\"/usr/bin/virtualenv\"\n",
    "    }\n",
    "}"
   ]
  },
  {
   "cell_type": "code",
   "execution_count": 19,
   "id": "1ecd7954-b35d-4ba5-9c5d-e70d29952d58",
   "metadata": {
    "execution": {
     "iopub.execute_input": "2022-05-31T02:58:27.036000Z",
     "iopub.status.busy": "2022-05-31T02:58:27.035768Z",
     "iopub.status.idle": "2022-05-31T02:58:27.112682Z",
     "shell.execute_reply": "2022-05-31T02:58:27.111960Z",
     "shell.execute_reply.started": "2022-05-31T02:58:27.035976Z"
    },
    "tags": []
   },
   "outputs": [
    {
     "data": {
      "application/vnd.jupyter.widget-view+json": {
       "model_id": "ebe03327887345d1949455923abf8784",
       "version_major": 2,
       "version_minor": 0
      },
      "text/plain": [
       "VBox()"
      ]
     },
     "metadata": {},
     "output_type": "display_data"
    },
    {
     "data": {
      "application/vnd.jupyter.widget-view+json": {
       "model_id": "",
       "version_major": 2,
       "version_minor": 0
      },
      "text/plain": [
       "FloatProgress(value=0.0, bar_style='info', description='Progress:', layout=Layout(height='25px', width='50%'),…"
      ]
     },
     "metadata": {},
     "output_type": "display_data"
    }
   ],
   "source": [
    "# sc.install_pypi_package('graphframes')\n",
    "# sc.install_pypi_package('boto3')\n",
    "# sc.install_pypi_package('pandas==1.0.3')"
   ]
  },
  {
   "cell_type": "code",
   "execution_count": 20,
   "id": "61f9cebf-abbc-4b84-9fd0-659de4bd3402",
   "metadata": {
    "execution": {
     "iopub.execute_input": "2022-05-31T02:58:27.787276Z",
     "iopub.status.busy": "2022-05-31T02:58:27.787009Z",
     "iopub.status.idle": "2022-05-31T02:58:29.088432Z",
     "shell.execute_reply": "2022-05-31T02:58:29.087733Z",
     "shell.execute_reply.started": "2022-05-31T02:58:27.787251Z"
    },
    "tags": []
   },
   "outputs": [
    {
     "data": {
      "application/vnd.jupyter.widget-view+json": {
       "model_id": "3393a352937a4be5af8142bc15d4c874",
       "version_major": 2,
       "version_minor": 0
      },
      "text/plain": [
       "VBox()"
      ]
     },
     "metadata": {},
     "output_type": "display_data"
    },
    {
     "data": {
      "application/vnd.jupyter.widget-view+json": {
       "model_id": "",
       "version_major": 2,
       "version_minor": 0
      },
      "text/plain": [
       "FloatProgress(value=0.0, bar_style='info', description='Progress:', layout=Layout(height='25px', width='50%'),…"
      ]
     },
     "metadata": {},
     "output_type": "display_data"
    }
   ],
   "source": [
    "import boto3\n",
    "import pandas as pd\n",
    "s3 = boto3.client('s3')\n",
    "obj = s3.get_object(Bucket='crypto-conven-training', Key='var_network/network_short_freq.csv')\n",
    "short_freq = pd.read_csv(obj['Body'], index_col=0)"
   ]
  },
  {
   "cell_type": "code",
   "execution_count": 30,
   "id": "b35559f6-40f3-4b62-8557-5381b6f79066",
   "metadata": {
    "execution": {
     "iopub.execute_input": "2022-05-31T03:07:56.824883Z",
     "iopub.status.busy": "2022-05-31T03:07:56.824661Z",
     "iopub.status.idle": "2022-05-31T03:09:00.334451Z",
     "shell.execute_reply": "2022-05-31T03:09:00.333803Z",
     "shell.execute_reply.started": "2022-05-31T03:07:56.824860Z"
    },
    "tags": []
   },
   "outputs": [
    {
     "data": {
      "application/vnd.jupyter.widget-view+json": {
       "model_id": "1423215bcb0d4b76958ea8ef8d62951d",
       "version_major": 2,
       "version_minor": 0
      },
      "text/plain": [
       "VBox()"
      ]
     },
     "metadata": {},
     "output_type": "display_data"
    },
    {
     "data": {
      "application/vnd.jupyter.widget-view+json": {
       "model_id": "",
       "version_major": 2,
       "version_minor": 0
      },
      "text/plain": [
       "FloatProgress(value=0.0, bar_style='info', description='Progress:', layout=Layout(height='25px', width='50%'),…"
      ]
     },
     "metadata": {},
     "output_type": "display_data"
    }
   ],
   "source": [
    "nodes = pd.DataFrame(short_freq.index, columns=['id'])\n",
    "edges = pd.DataFrame(columns=['src', 'dst', 'spillover'])\n",
    "for index, row in short_freq.iterrows():\n",
    "    for curr in row.index:\n",
    "        edges = edges.append({'src': curr, 'dst': index, 'spillover': short_freq.loc[index, curr]},\n",
    "                                 ignore_index=True)"
   ]
  },
  {
   "cell_type": "code",
   "execution_count": 31,
   "id": "2b86d3a1-6800-4d06-bda9-8787232c38b6",
   "metadata": {
    "execution": {
     "iopub.execute_input": "2022-05-31T03:09:00.336107Z",
     "iopub.status.busy": "2022-05-31T03:09:00.335651Z",
     "iopub.status.idle": "2022-05-31T03:09:01.643411Z",
     "shell.execute_reply": "2022-05-31T03:09:01.642629Z",
     "shell.execute_reply.started": "2022-05-31T03:09:00.336073Z"
    },
    "tags": []
   },
   "outputs": [
    {
     "data": {
      "application/vnd.jupyter.widget-view+json": {
       "model_id": "eedc5ce10f8f42e38d86c7892dedfc86",
       "version_major": 2,
       "version_minor": 0
      },
      "text/plain": [
       "VBox()"
      ]
     },
     "metadata": {},
     "output_type": "display_data"
    },
    {
     "data": {
      "application/vnd.jupyter.widget-view+json": {
       "model_id": "",
       "version_major": 2,
       "version_minor": 0
      },
      "text/plain": [
       "FloatProgress(value=0.0, bar_style='info', description='Progress:', layout=Layout(height='25px', width='50%'),…"
      ]
     },
     "metadata": {},
     "output_type": "display_data"
    }
   ],
   "source": [
    "nodes = spark.createDataFrame(nodes)\n",
    "edges = spark.createDataFrame(edges)"
   ]
  },
  {
   "cell_type": "code",
   "execution_count": 32,
   "id": "edefea61-f258-4a94-ab26-7de9552bd053",
   "metadata": {
    "execution": {
     "iopub.execute_input": "2022-05-31T03:09:01.645093Z",
     "iopub.status.busy": "2022-05-31T03:09:01.644846Z",
     "iopub.status.idle": "2022-05-31T03:09:01.910536Z",
     "shell.execute_reply": "2022-05-31T03:09:01.909769Z",
     "shell.execute_reply.started": "2022-05-31T03:09:01.645059Z"
    },
    "tags": []
   },
   "outputs": [
    {
     "data": {
      "application/vnd.jupyter.widget-view+json": {
       "model_id": "3049e715c11b46e6b4468f30c7232cdf",
       "version_major": 2,
       "version_minor": 0
      },
      "text/plain": [
       "VBox()"
      ]
     },
     "metadata": {},
     "output_type": "display_data"
    },
    {
     "data": {
      "application/vnd.jupyter.widget-view+json": {
       "model_id": "",
       "version_major": 2,
       "version_minor": 0
      },
      "text/plain": [
       "FloatProgress(value=0.0, bar_style='info', description='Progress:', layout=Layout(height='25px', width='50%'),…"
      ]
     },
     "metadata": {},
     "output_type": "display_data"
    },
    {
     "name": "stdout",
     "output_type": "stream",
     "text": [
      "GraphFrame(v:[id: string], e:[src: string, dst: string ... 1 more field])"
     ]
    }
   ],
   "source": [
    "from graphframes import *\n",
    "g = GraphFrame(nodes, edges)\n",
    "print(g)"
   ]
  },
  {
   "cell_type": "code",
   "execution_count": 33,
   "id": "cccd15f4-6fda-457c-b289-2e556ea0707e",
   "metadata": {
    "collapsed": true,
    "execution": {
     "iopub.execute_input": "2022-05-31T03:10:02.923886Z",
     "iopub.status.busy": "2022-05-31T03:10:02.923664Z",
     "iopub.status.idle": "2022-05-31T03:10:10.222046Z",
     "shell.execute_reply": "2022-05-31T03:10:10.221345Z",
     "shell.execute_reply.started": "2022-05-31T03:10:02.923862Z"
    },
    "jupyter": {
     "outputs_hidden": true
    },
    "tags": []
   },
   "outputs": [
    {
     "data": {
      "application/vnd.jupyter.widget-view+json": {
       "model_id": "5bbb27bea90540d4890cc10b71911a0d",
       "version_major": 2,
       "version_minor": 0
      },
      "text/plain": [
       "VBox()"
      ]
     },
     "metadata": {},
     "output_type": "display_data"
    },
    {
     "data": {
      "application/vnd.jupyter.widget-view+json": {
       "model_id": "",
       "version_major": 2,
       "version_minor": 0
      },
      "text/plain": [
       "FloatProgress(value=0.0, bar_style='info', description='Progress:', layout=Layout(height='25px', width='50%'),…"
      ]
     },
     "metadata": {},
     "output_type": "display_data"
    },
    {
     "name": "stdout",
     "output_type": "stream",
     "text": [
      "Collecting networkx\n",
      "  Downloading https://files.pythonhosted.org/packages/e9/93/aa6613aa70d6eb4868e667068b5a11feca9645498fd31b954b6c4bb82fa5/networkx-2.6.3-py3-none-any.whl (1.9MB)\n",
      "Installing collected packages: networkx\n",
      "Successfully installed networkx-2.6.3\n",
      "\n",
      "Collecting matplotlib==3.2.1\n",
      "  Downloading https://files.pythonhosted.org/packages/b2/c2/71fcf957710f3ba1f09088b35776a799ba7dd95f7c2b195ec800933b276b/matplotlib-3.2.1-cp37-cp37m-manylinux1_x86_64.whl (12.4MB)\n",
      "Requirement already satisfied: python-dateutil>=2.1 in /mnt/tmp/1653962344184-0/lib/python3.7/site-packages (from matplotlib==3.2.1)\n",
      "Collecting pyparsing!=2.0.4,!=2.1.2,!=2.1.6,>=2.0.1 (from matplotlib==3.2.1)\n",
      "  Downloading https://files.pythonhosted.org/packages/6c/10/a7d0fa5baea8fe7b50f448ab742f26f52b80bfca85ac2be9d35cdd9a3246/pyparsing-3.0.9-py3-none-any.whl (98kB)\n",
      "Collecting cycler>=0.10 (from matplotlib==3.2.1)\n",
      "  Downloading https://files.pythonhosted.org/packages/5c/f9/695d6bedebd747e5eb0fe8fad57b72fdf25411273a39791cde838d5a8f51/cycler-0.11.0-py3-none-any.whl\n",
      "Requirement already satisfied: numpy>=1.11 in /usr/local/lib64/python3.7/site-packages (from matplotlib==3.2.1)\n",
      "Collecting kiwisolver>=1.0.1 (from matplotlib==3.2.1)\n",
      "  Downloading https://files.pythonhosted.org/packages/51/50/9a9a94afa26c50fc5d9127272737806990aa698c7a1c220b8e5075e70304/kiwisolver-1.4.2-cp37-cp37m-manylinux_2_5_x86_64.manylinux1_x86_64.whl (1.1MB)\n",
      "Requirement already satisfied: six>=1.5 in /usr/local/lib/python3.7/site-packages (from python-dateutil>=2.1->matplotlib==3.2.1)\n",
      "Collecting typing-extensions; python_version < \"3.8\" (from kiwisolver>=1.0.1->matplotlib==3.2.1)\n",
      "  Downloading https://files.pythonhosted.org/packages/75/e1/932e06004039dd670c9d5e1df0cd606bf46e29a28e65d5bb28e894ea29c9/typing_extensions-4.2.0-py3-none-any.whl\n",
      "Installing collected packages: pyparsing, cycler, typing-extensions, kiwisolver, matplotlib\n",
      "Successfully installed cycler-0.11.0 kiwisolver-1.4.2 matplotlib-3.2.1 pyparsing-3.0.9 typing-extensions-4.2.0\n",
      "\n",
      "You are using pip version 9.0.1, however version 22.1.1 is available.\n",
      "You should consider upgrading via the 'pip install --upgrade pip' command.\n",
      "\n",
      "You are using pip version 9.0.1, however version 22.1.1 is available.\n",
      "You should consider upgrading via the 'pip install --upgrade pip' command."
     ]
    }
   ],
   "source": [
    "# sc.install_pypi_package('networkx')\n",
    "# sc.install_pypi_package(\"matplotlib==3.2.1\")"
   ]
  },
  {
   "cell_type": "code",
   "execution_count": 74,
   "id": "7203f8dd-4a06-4fe1-865f-0bab4602ba86",
   "metadata": {
    "execution": {
     "iopub.execute_input": "2022-05-31T04:04:52.467933Z",
     "iopub.status.busy": "2022-05-31T04:04:52.467681Z",
     "iopub.status.idle": "2022-05-31T04:04:52.528993Z",
     "shell.execute_reply": "2022-05-31T04:04:52.528315Z",
     "shell.execute_reply.started": "2022-05-31T04:04:52.467907Z"
    },
    "tags": []
   },
   "outputs": [
    {
     "data": {
      "application/vnd.jupyter.widget-view+json": {
       "model_id": "11e1521a6d9f4d7ba2818f4f81150568",
       "version_major": 2,
       "version_minor": 0
      },
      "text/plain": [
       "VBox()"
      ]
     },
     "metadata": {},
     "output_type": "display_data"
    },
    {
     "data": {
      "application/vnd.jupyter.widget-view+json": {
       "model_id": "",
       "version_major": 2,
       "version_minor": 0
      },
      "text/plain": [
       "FloatProgress(value=0.0, bar_style='info', description='Progress:', layout=Layout(height='25px', width='50%'),…"
      ]
     },
     "metadata": {},
     "output_type": "display_data"
    }
   ],
   "source": [
    "# import networkx as nx\n",
    "# import matplotlib.pyplot as plt\n",
    "\n",
    "# # G=nx.DiGraph()\n",
    "\n",
    "# # for row in g.edges.select('src', 'dst', 'spillover').collect():\n",
    "# #     if row['src'] != row['dst']:\n",
    "# #         G.add_edge(row['src'], row['dst'], weight=row['spillover'])\n",
    "\n",
    "# plt.figure(figsize=(10, 10))\n",
    "# pos = nx.spring_layout(G)\n",
    "# d = dict(G.degree(weight='weight'))\n",
    "# nx.draw_networkx_labels(G, pos=pos, font_weight='bold')\n",
    "# nx.draw_networkx_nodes(G, pos=pos, node_color='skyblue')\n",
    "# nx.draw_networkx_edges(G, pos=pos, alpha=0.5, width=5)\n",
    "# plt.close()\n",
    "\n",
    "# %matplot plt"
   ]
  },
  {
   "cell_type": "code",
   "execution_count": 79,
   "id": "99400d9a-bdea-4746-a4bb-5ed664595d0a",
   "metadata": {
    "execution": {
     "iopub.execute_input": "2022-05-31T04:15:16.583240Z",
     "iopub.status.busy": "2022-05-31T04:15:16.583015Z",
     "iopub.status.idle": "2022-05-31T04:16:50.468218Z",
     "shell.execute_reply": "2022-05-31T04:16:50.449385Z",
     "shell.execute_reply.started": "2022-05-31T04:15:16.583217Z"
    },
    "tags": []
   },
   "outputs": [
    {
     "data": {
      "application/vnd.jupyter.widget-view+json": {
       "model_id": "d20a495c89f14b7ca3b567bd6d5f5de5",
       "version_major": 2,
       "version_minor": 0
      },
      "text/plain": [
       "VBox()"
      ]
     },
     "metadata": {},
     "output_type": "display_data"
    },
    {
     "data": {
      "application/vnd.jupyter.widget-view+json": {
       "model_id": "",
       "version_major": 2,
       "version_minor": 0
      },
      "text/plain": [
       "FloatProgress(value=0.0, bar_style='info', description='Progress:', layout=Layout(height='25px', width='50%'),…"
      ]
     },
     "metadata": {},
     "output_type": "display_data"
    },
    {
     "name": "stdout",
     "output_type": "stream",
     "text": [
      "+--------+------------------+\n",
      "|      id|          pagerank|\n",
      "+--------+------------------+\n",
      "|  USDDMD|0.9999999999999994|\n",
      "|  USDBCN|0.9999999999999994|\n",
      "| USDCANN|0.9999999999999994|\n",
      "|  USDIOC|0.9999999999999994|\n",
      "|USDSTART|0.9999999999999994|\n",
      "|  USDTRC|0.9999999999999994|\n",
      "|  USDGRS|0.9999999999999994|\n",
      "| USDEMC2|0.9999999999999994|\n",
      "| USDMINT|0.9999999999999994|\n",
      "| USDBELA|0.9999999999999994|\n",
      "|  USDXCN|0.9999999999999994|\n",
      "|  USDXST|0.9999999999999994|\n",
      "|  USDXWC|0.9999999999999994|\n",
      "|  USDLTC|0.9999999999999994|\n",
      "|  USDXMY|0.9999999999999994|\n",
      "|  USDVRC|0.9999999999999994|\n",
      "|  USDPOT|0.9999999999999994|\n",
      "|  USDUBQ|0.9999999999999994|\n",
      "|  USDFTC|0.9999999999999994|\n",
      "| USDDOGE|0.9999999999999994|\n",
      "+--------+------------------+\n",
      "only showing top 20 rows"
     ]
    }
   ],
   "source": [
    "results = g.pageRank(resetProbability=0.15, tol=0.01)\n",
    "results.vertices.select(\"id\", \"pagerank\").show()"
   ]
  },
  {
   "cell_type": "code",
   "execution_count": 80,
   "id": "06cfeaef-504c-47d1-b90d-b644ed6d1109",
   "metadata": {
    "execution": {
     "iopub.execute_input": "2022-05-31T04:16:50.469724Z",
     "iopub.status.busy": "2022-05-31T04:16:50.469476Z",
     "iopub.status.idle": "2022-05-31T04:17:08.561926Z",
     "shell.execute_reply": "2022-05-31T04:17:08.561252Z",
     "shell.execute_reply.started": "2022-05-31T04:16:50.469690Z"
    }
   },
   "outputs": [
    {
     "data": {
      "application/vnd.jupyter.widget-view+json": {
       "model_id": "8d8c441975a04d5997aa7256351873ea",
       "version_major": 2,
       "version_minor": 0
      },
      "text/plain": [
       "VBox()"
      ]
     },
     "metadata": {},
     "output_type": "display_data"
    },
    {
     "data": {
      "application/vnd.jupyter.widget-view+json": {
       "model_id": "",
       "version_major": 2,
       "version_minor": 0
      },
      "text/plain": [
       "FloatProgress(value=0.0, bar_style='info', description='Progress:', layout=Layout(height='25px', width='50%'),…"
      ]
     },
     "metadata": {},
     "output_type": "display_data"
    },
    {
     "name": "stdout",
     "output_type": "stream",
     "text": [
      "+-------+------+--------------------+\n",
      "|    src|   dst|              weight|\n",
      "+-------+------+--------------------+\n",
      "|USDPINK|USDGBP|0.006451612903225...|\n",
      "|USDPINK|USDEUR|0.006451612903225...|\n",
      "|USDPINK|USDNZD|0.006451612903225...|\n",
      "|USDPINK|USDAUD|0.006451612903225...|\n",
      "|USDPINK|USDMGA|0.006451612903225...|\n",
      "|USDPINK|USDTND|0.006451612903225...|\n",
      "|USDPINK|USDRWF|0.006451612903225...|\n",
      "|USDPINK|USDXOF|0.006451612903225...|\n",
      "|USDPINK|USDZAR|0.006451612903225...|\n",
      "|USDPINK|USDNAD|0.006451612903225...|\n",
      "|USDPINK|USDSZL|0.006451612903225...|\n",
      "|USDPINK|USDSTD|0.006451612903225...|\n",
      "|USDPINK|USDMAD|0.006451612903225...|\n",
      "|USDPINK|USDBWP|0.006451612903225...|\n",
      "|USDPINK|USDKMF|0.006451612903225...|\n",
      "|USDPINK|USDLSL|0.006451612903225...|\n",
      "|USDPINK|USDDZD|0.006451612903225...|\n",
      "|USDPINK|USDCVE|0.006451612903225...|\n",
      "|USDPINK|USDETB|0.006451612903225...|\n",
      "|USDPINK|USDUGX|0.006451612903225...|\n",
      "+-------+------+--------------------+\n",
      "only showing top 20 rows"
     ]
    }
   ],
   "source": [
    "results.edges.select(\"src\", \"dst\", \"weight\").show()"
   ]
  },
  {
   "cell_type": "code",
   "execution_count": null,
   "id": "980a68de-2ab4-454b-a58d-7eedd81c6717",
   "metadata": {},
   "outputs": [],
   "source": []
  }
 ],
 "metadata": {
  "kernelspec": {
   "display_name": "PySpark",
   "language": "python",
   "name": "pysparkkernel"
  },
  "language_info": {
   "codemirror_mode": {
    "name": "python",
    "version": 3
   },
   "file_extension": ".py",
   "mimetype": "text/x-python",
   "name": "pyspark",
   "pygments_lexer": "python3"
  }
 },
 "nbformat": 4,
 "nbformat_minor": 5
}
